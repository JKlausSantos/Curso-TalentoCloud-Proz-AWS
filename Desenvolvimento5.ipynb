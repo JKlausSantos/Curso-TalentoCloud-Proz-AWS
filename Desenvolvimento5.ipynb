{
  "nbformat": 4,
  "nbformat_minor": 0,
  "metadata": {
    "colab": {
      "provenance": [],
      "authorship_tag": "ABX9TyNNOujuVAPmXIqzCeYJG0Yu"
    },
    "kernelspec": {
      "name": "python3",
      "display_name": "Python 3"
    },
    "language_info": {
      "name": "python"
    }
  },
  "cells": [
    {
      "cell_type": "code",
      "execution_count": null,
      "metadata": {
        "id": "6WCeDkektRNi"
      },
      "outputs": [],
      "source": []
    },
    {
      "cell_type": "markdown",
      "source": [
        "**Faça uma função calculadora que os números e as operações serão feitas pelo usuário. O código deve ficar rodando infinitamente até que o usuário escolha a opção de sair. No início, o programa mostrará a seguinte lista de operações:**\n",
        "\n",
        "*1: Soma\n",
        "2: Subtração\n",
        "3: Multiplicação\n",
        "4: Divisão\n",
        "0: Sair*\n",
        "\n",
        "**Digite o número para a operação correspondente e caso o usuário introduza qualquer outro, o sistema deve mostrar a mensagem “Essa opção não existe” e voltar ao menu de opções.**\n",
        "\n",
        "**Após a seleção, o sistema deve pedir para o usuário inserir o primeiro e segundo valor, um de cada. Depois precisa executar a operação e mostrar o resultado na tela. Quando o usuário escolher a opção “Sair”, o sistema irá parar.**\n",
        "\n",
        "**É necessário que o sistema mostre as opções sempre que finalizar uma operação e mostrar o resultado.**# Nova seção"
      ],
      "metadata": {
        "id": "eJjdM1iHtZhn"
      }
    },
    {
      "cell_type": "code",
      "source": [
        "def soma(a, b):\n",
        "    return a + b\n",
        "\n",
        "def subtracao(a, b):\n",
        "    return a - b\n",
        "\n",
        "def multiplicacao(a, b):\n",
        "    return a * b\n",
        "\n",
        "def divisao(a, b):\n",
        "    if b == 0:\n",
        "        return \"Erro: divisão por zero\"\n",
        "    return a / b\n",
        "\n",
        "while True:\n",
        "    print(\"Selecione a operação:\")\n",
        "    print(\"1: Soma\")\n",
        "    print(\"2: Subtração\")\n",
        "    print(\"3: Multiplicação\")\n",
        "    print(\"4: Divisão\")\n",
        "    print(\"0: Sair\")\n",
        "\n",
        "    escolha = input(\"Digite o número da operação desejada: \")\n",
        "\n",
        "    if escolha == '0':\n",
        "        print(\"Saindo da calculadora.\")\n",
        "        break\n",
        "    elif escolha in ('1', '2', '3', '4'):\n",
        "        num1 = float(input(\"Digite o primeiro valor: \"))\n",
        "        num2 = float(input(\"Digite o segundo valor: \"))\n",
        "\n",
        "        if escolha == '1':\n",
        "            resultado = soma(num1, num2)\n",
        "            print(\"Resultado: \", resultado)\n",
        "        elif escolha == '2':\n",
        "            resultado = subtracao(num1, num2)\n",
        "            print(\"Resultado: \", resultado)\n",
        "        elif escolha == '3':\n",
        "            resultado = multiplicacao(num1, num2)\n",
        "            print(\"Resultado: \", resultado)\n",
        "        elif escolha == '4':\n",
        "            resultado = divisao(num1, num2)\n",
        "            print(\"Resultado: \", resultado)\n",
        "    else:\n",
        "        print(\"Essa opção não existe. Por favor, escolha uma opção válida.\")\n"
      ],
      "metadata": {
        "colab": {
          "base_uri": "https://localhost:8080/"
        },
        "id": "vtj2SCuSt5nH",
        "outputId": "643700a1-5eac-4573-869b-de62f3318ab1"
      },
      "execution_count": null,
      "outputs": [
        {
          "output_type": "stream",
          "name": "stdout",
          "text": [
            "Selecione a operação:\n",
            "1: Soma\n",
            "2: Subtração\n",
            "3: Multiplicação\n",
            "4: Divisão\n",
            "0: Sair\n"
          ]
        }
      ]
    }
  ]
}